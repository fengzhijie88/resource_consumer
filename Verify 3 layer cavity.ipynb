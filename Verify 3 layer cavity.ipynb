{
 "cells": [
  {
   "cell_type": "code",
   "execution_count": 155,
   "id": "6dbb5de6",
   "metadata": {},
   "outputs": [],
   "source": [
    "from scipy.integrate import solve_ivp\n",
    "from scipy.integrate import odeint\n",
    "import numpy as np\n",
    "import matplotlib.pyplot as plt\n",
    "import cvxpy as cvx"
   ]
  },
  {
   "cell_type": "code",
   "execution_count": 165,
   "id": "3e4801a0",
   "metadata": {},
   "outputs": [],
   "source": [
    "'''to check 2 layers, put \n",
    "D_mean = 0\n",
    "D_std_dev = 0,\n",
    "and the comment out rata recorder for X-related quantity \n",
    "\n",
    "'''\n",
    "\n",
    "\n",
    "\n",
    "top_species = 25 #W\n",
    "middle_species = 50 #B\n",
    "resources = 100 #R\n",
    "\n",
    "# Set the statistics for the consumer-preference matrices\n",
    "D_mean = 1\n",
    "D_std_dev = 1\n",
    "\n",
    "C_mean = 1\n",
    "C_std_dev = 1\n",
    "\n",
    "# Create the matrices and vectors featured in the differential equations\n",
    "\n",
    "# C = C[:,resources_survived]\n",
    "# D = D[top_survived,:]\n",
    "\n",
    "# u = u[top_survived]\n",
    "# m = m\n",
    "# k = k[resources_survived]\n",
    "def consumer_resource(t, state):\n",
    "        X = state[:top_species]\n",
    "        N = state[top_species:top_species+middle_species]\n",
    "        R = state[top_species+middle_species:]\n",
    "        \n",
    "        dX = X*(np.dot(D,N)-u)\n",
    "        dN = N*(np.dot(C,R)-m-np.dot(D.T,X))\n",
    "        dR = R*(k-R-np.dot(C.T,N))\n",
    "        \n",
    "        return np.concatenate((dX,dN,dR),axis=None)\n",
    "\n",
    "Xmean=[]\n",
    "Nmean=[]\n",
    "Rmean=[]\n",
    "\n",
    "Xsqmean=[]\n",
    "Nsqmean=[]\n",
    "Rsqmean=[]\n",
    "\n",
    "phiX=[]\n",
    "phiN=[]\n",
    "phiR=[]\n",
    "\n",
    "for i in range(20):\n",
    "    \n",
    "    D = D_mean/middle_species + D_std_dev*np.random.normal(0, 1, (top_species,middle_species))/np.sqrt(middle_species)\n",
    "    C = C_mean/resources+C_std_dev*np.random.normal(0, 1, (middle_species,resources))/np.sqrt(resources)\n",
    "\n",
    "    u = np.random.normal(1,1,top_species)\n",
    "    m = np.random.normal(1,1,middle_species)\n",
    "    k = np.random.normal(1,1,resources)\n",
    "    #initial_state[:top_species]=0 #for debug\n",
    "\n",
    "    initial_state = np.random.uniform(0,1,top_species+middle_species+resources)\n",
    "    \n",
    "    sol = solve_ivp(consumer_resource, t_span=[0,400], y0=initial_state.copy(), dense_output=True,method='LSODA')\n",
    "\n",
    "    Xmean.append(np.average(sol.y[:top_species].T[-1]))\n",
    "    Nmean.append(np.average(sol.y[top_species:top_species+middle_species].T[-1]))\n",
    "    Rmean.append(np.average(sol.y[top_species+middle_species:].T[-1]))\n",
    "    \n",
    "    Xsqmean.append(np.average(sol.y[:top_species].T[-1]**2))\n",
    "    Nsqmean.append(np.average(sol.y[top_species:top_species+middle_species].T[-1]**2))\n",
    "    Rsqmean.append(np.average(sol.y[top_species+middle_species:].T[-1]**2))\n",
    "    \n",
    "    \n",
    "    phiX.append(sum(sol.y[:top_species].T[-1]> 1e-11))\n",
    "    phiN.append(sum(sol.y[top_species:top_species+middle_species].T[-1]> 1e-11))\n",
    "    phiR.append(sum(sol.y[top_species+middle_species:].T[-1]> 1e-11))\n",
    "    \n",
    "\n",
    "\n",
    "# axs[0].plot(sol.t, sol.y[:top_species].T)\n",
    "# axs[0].set_xlabel('Time')\n",
    "# axs[0].set_ylabel('Top layer (X)')\n",
    "\n",
    "# axs[1].plot(sol.t, sol.y[top_species:top_species+middle_species].T)\n",
    "# axs[1].set_xlabel('Time')\n",
    "# axs[1].set_ylabel('Middle layer (N)')\n",
    "\n",
    "# axs[2].plot(sol.t, sol.y[top_species+middle_species:].T)\n",
    "# axs[2].set_xlabel('Time')\n",
    "# axs[2].set_ylabel('Resources (R)')\n",
    "\n",
    "# plt.show()"
   ]
  },
  {
   "cell_type": "code",
   "execution_count": 153,
   "id": "12d42097",
   "metadata": {},
   "outputs": [
    {
     "data": {
      "text/plain": [
       "array([0.5       , 0.33333333, 0.25      , 0.2       , 0.16666667,\n",
       "       0.14285714, 0.125     , 0.11111111, 0.1       ])"
      ]
     },
     "execution_count": 153,
     "metadata": {},
     "output_type": "execute_result"
    }
   ],
   "source": []
  },
  {
   "cell_type": "code",
   "execution_count": 166,
   "id": "03168d37",
   "metadata": {},
   "outputs": [
    {
     "name": "stdout",
     "output_type": "stream",
     "text": [
      "0.366\n",
      "0.365\n",
      "0.7395\n"
     ]
    }
   ],
   "source": [
    "\n",
    "#print(np.median(Xmean)**2)\n",
    "print(np.mean(phiX)/top_species)\n",
    "\n",
    "print(np.mean(phiN)/middle_species)\n",
    "\n",
    "print(np.mean(phiR)/resources)"
   ]
  },
  {
   "cell_type": "code",
   "execution_count": 147,
   "id": "2624b879",
   "metadata": {},
   "outputs": [
    {
     "name": "stdout",
     "output_type": "stream",
     "text": [
      "0.997686180645274 0.7343126074505067 0.8900976715605372\n"
     ]
    }
   ],
   "source": [
    "print(np.average(Xmean),np.average(Nmean),np.average(Rmean))\n",
    "#1.194553440194546 0.49940593471836237 0.8342422570461712"
   ]
  },
  {
   "cell_type": "code",
   "execution_count": 149,
   "id": "6c0a78a8",
   "metadata": {},
   "outputs": [
    {
     "name": "stdout",
     "output_type": "stream",
     "text": [
      "4.098621480337709 1.9137531205921767 1.512845577151005\n"
     ]
    }
   ],
   "source": [
    "print(np.average(Xsqmean),np.average(Nsqmean),np.average(Rsqmean))\n",
    "#50.209235853789444 1.1655278869000927 1.9306360571794994"
   ]
  },
  {
   "cell_type": "code",
   "execution_count": null,
   "id": "346e88f3",
   "metadata": {},
   "outputs": [],
   "source": [
    " u"
   ]
  },
  {
   "cell_type": "code",
   "execution_count": 10,
   "id": "05538b20",
   "metadata": {},
   "outputs": [
    {
     "data": {
      "text/plain": [
       "array([1, 4, 9])"
      ]
     },
     "execution_count": 10,
     "metadata": {},
     "output_type": "execute_result"
    }
   ],
   "source": [
    "test=np.array([1,2,3])\n",
    "test**2\n",
    "X=np.random.normal(0, 1, (N,N))\n",
    "    #Z=(X+X.T)/2\n",
    "    Z=np.triu(X)+gamma*np.transpose(np.triu(X))+np.sqrt(1-gamma**2)*(np.tril(X))\n",
    "    alpha=sigma*Z/np.sqrt(N)+mu/N"
   ]
  },
  {
   "cell_type": "code",
   "execution_count": 126,
   "id": "e2b106d1",
   "metadata": {},
   "outputs": [],
   "source": [
    "#debug cavity solution by looking at lotka voterna, turns out no problem\n",
    "def lotka_volterra(t, X):\n",
    "    return X*(k -X- alpha@X)\n",
    "mu=1\n",
    "sigma=0.3\n",
    "gamma=1\n",
    "S=100\n",
    "\n",
    "Xmean=[]\n",
    "Xsqmean=[]\n",
    "phiX=[]\n",
    "\n",
    "\n",
    "for i in range(100):\n",
    "    X=np.random.normal(0, 1, (S,S))\n",
    "    Z=np.triu(X)+gamma*np.transpose(np.triu(X))+np.sqrt(1-gamma**2)*(np.tril(X))\n",
    "    alpha=sigma*Z/np.sqrt(S)+mu/S\n",
    "    k=np.random.normal(1, 1, S)\n",
    "    \n",
    "    initial_state=np.random.uniform(0,2,S)\n",
    "    sol_LV = solve_ivp(lotka_volterra, t_span=[0,200], y0=initial_state, dense_output=True)\n",
    "    \n",
    "    Xmean.append(np.mean(sol_LV.y.T[-1]))\n",
    "    \n",
    "    Xsqmean.append(np.mean(sol_LV.y.T[-1]**2))\n",
    "    phiX.append(sum(sol_LV.y.T[-1]> 1e-11))\n",
    "#plt.plot(sol_LV.t, sol_LV.y.T)"
   ]
  },
  {
   "cell_type": "code",
   "execution_count": 128,
   "id": "42c19451",
   "metadata": {},
   "outputs": [
    {
     "name": "stdout",
     "output_type": "stream",
     "text": [
      "0.6470485908426222 1.003078844302977 0.6679999999999999\n"
     ]
    }
   ],
   "source": [
    "print(np.mean(Xmean),np.mean(Xsqmean),np.mean(phiX)/S)\n"
   ]
  },
  {
   "cell_type": "code",
   "execution_count": 221,
   "id": "69ee710a",
   "metadata": {},
   "outputs": [
    {
     "name": "stdout",
     "output_type": "stream",
     "text": [
      "40\n",
      "50\n",
      "60\n",
      "70\n",
      "80\n",
      "90\n",
      "100\n",
      "110\n",
      "120\n",
      "130\n",
      "140\n",
      "150\n",
      "160\n",
      "170\n",
      "180\n"
     ]
    }
   ],
   "source": [
    "'''for varied r1 r2'''\n",
    "D_mean = 1\n",
    "D_std_dev = 1\n",
    "\n",
    "C_mean = 1\n",
    "C_std_dev = 1\n",
    "\n",
    "# Create the matrices and vectors featured in the differential equations\n",
    "\n",
    "# C = C[:,resources_survived]\n",
    "# D = D[top_survived,:]\n",
    "\n",
    "# u = u[top_survived]\n",
    "# m = m\n",
    "# k = k[resources_survived]\n",
    "\n",
    "\n",
    "\n",
    "rinlist=np.linspace(2,9,15)\n",
    "qs=[]\n",
    "phis=[]\n",
    "means=[]\n",
    "    \n",
    "qse=[]\n",
    "phise=[]\n",
    "meanse=[]\n",
    "for rin in rinlist:\n",
    "    top_species = 20 #W\n",
    "    middle_species = int(top_species*rin) #B\n",
    "    resources = int(middle_species*rin) #R\n",
    "\n",
    "    print(middle_species)\n",
    "    #print(resources)\n",
    "    # Set the statistics for the consumer-preference matrices\n",
    "    D_mean = 1\n",
    "    D_std_dev = 1\n",
    "\n",
    "    C_mean = 1\n",
    "    C_std_dev = 1\n",
    "\n",
    "    # Create the matrices and vectors featured in the differential equations\n",
    "\n",
    "    # C = C[:,resources_survived]\n",
    "    # D = D[top_survived,:]\n",
    "\n",
    "    # u = u[top_survived]\n",
    "    # m = m\n",
    "    # k = k[resources_survived]\n",
    "    def consumer_resource(t, state):\n",
    "            X = state[:top_species]\n",
    "            N = state[top_species:top_species+middle_species]\n",
    "            R = state[top_species+middle_species:]\n",
    "\n",
    "            dX = X*(np.dot(D,N)-u)\n",
    "            dN = N*(np.dot(C,R)-m-np.dot(D.T,X))\n",
    "            dR = R*(k-R-np.dot(C.T,N))\n",
    "\n",
    "            return np.concatenate((dX,dN,dR),axis=None)\n",
    "\n",
    "    Xmean=[]\n",
    "    Nmean=[]\n",
    "    Rmean=[]\n",
    "\n",
    "    Xsqmean=[]\n",
    "    Nsqmean=[]\n",
    "    Rsqmean=[]\n",
    "\n",
    "    phiX=[]\n",
    "    phiN=[]\n",
    "    phiR=[]\n",
    "    \n",
    "    for i in range(20):\n",
    "\n",
    "        D = D_mean/middle_species + D_std_dev*np.random.normal(0, 1, (top_species,middle_species))/np.sqrt(middle_species)\n",
    "        C = C_mean/resources+C_std_dev*np.random.normal(0, 1, (middle_species,resources))/np.sqrt(resources)\n",
    "\n",
    "        u = np.random.normal(1,1,top_species)\n",
    "        m = np.random.normal(1,1,middle_species)\n",
    "        k = np.random.normal(1,1,resources)\n",
    "        #initial_state[:top_species]=0 #for debug\n",
    "\n",
    "        initial_state = np.random.uniform(0,1,top_species+middle_species+resources)\n",
    "\n",
    "        sol = solve_ivp(consumer_resource, t_span=[0,400], y0=initial_state.copy(), dense_output=True,method='LSODA')\n",
    "\n",
    "        Xmean.append(np.average(sol.y[:top_species].T[-1]))\n",
    "        Nmean.append(np.average(sol.y[top_species:top_species+middle_species].T[-1]))\n",
    "        Rmean.append(np.average(sol.y[top_species+middle_species:].T[-1]))\n",
    "\n",
    "        Xsqmean.append(np.average(sol.y[:top_species].T[-1]**2))\n",
    "        Nsqmean.append(np.average(sol.y[top_species:top_species+middle_species].T[-1]**2))\n",
    "        Rsqmean.append(np.average(sol.y[top_species+middle_species:].T[-1]**2))\n",
    "\n",
    "\n",
    "        phiX.append(sum(sol.y[:top_species].T[-1]> 1e-11))\n",
    "        phiN.append(sum(sol.y[top_species:top_species+middle_species].T[-1]> 1e-11))\n",
    "        phiR.append(sum(sol.y[top_species+middle_species:].T[-1]> 1e-11))\n",
    "\n",
    "\n",
    "    qs.append([np.mean(Xsqmean),np.mean(Nsqmean),np.mean(Rsqmean)]),\n",
    "    means.append([np.mean(Xmean),np.mean(Nmean),np.mean(Rmean)])\n",
    "    phis.append([np.mean(phiX)/top_species,np.mean(phiN)/middle_species,np.mean(phiR)/resources])\n",
    "    \n",
    "    qse.append([np.std(Xsqmean),np.std(Nsqmean),np.std(Rsqmean)]),\n",
    "    meanse.append([np.std(Xmean),np.std(Xsqmean),np.std(phiX)/S])\n",
    "    phise.append([np.std(phiX)/top_species,np.std(phiN)/middle_species,np.std(phiR)/resources])\n",
    "\n",
    "\n",
    "\n"
   ]
  },
  {
   "cell_type": "code",
   "execution_count": 196,
   "id": "041f10af",
   "metadata": {},
   "outputs": [],
   "source": [
    "\n",
    "\n"
   ]
  },
  {
   "cell_type": "code",
   "execution_count": 216,
   "id": "44c4b1ed",
   "metadata": {},
   "outputs": [
    {
     "data": {
      "text/plain": [
       "array([2. , 2.5, 3. , 3.5, 4. , 4.5, 5. , 5.5, 6. , 6.5, 7. , 7.5, 8. ,\n",
       "       8.5, 9. ])"
      ]
     },
     "execution_count": 216,
     "metadata": {},
     "output_type": "execute_result"
    }
   ],
   "source": [
    "rinlist"
   ]
  },
  {
   "cell_type": "code",
   "execution_count": 249,
   "id": "a2e47b3f",
   "metadata": {},
   "outputs": [
    {
     "data": {
      "image/png": "[encoded data removed]",
      "text/plain": [
       "<Figure size 432x288 with 1 Axes>"
      ]
     },
     "metadata": {
      "needs_background": "light"
     },
     "output_type": "display_data"
    },
    {
     "data": {
      "image/png": "[encoded data removed]",
      "text/plain": [
       "<Figure size 432x288 with 1 Axes>"
      ]
     },
     "metadata": {
      "needs_background": "light"
     },
     "output_type": "display_data"
    },
    {
     "data": {
      "image/png": "[encoded data removed]",
      "text/plain": [
       "<Figure size 432x288 with 1 Axes>"
      ]
     },
     "metadata": {
      "needs_background": "light"
     },
     "output_type": "display_data"
    }
   ],
   "source": [
    "qs=np.array(qs)\n",
    "means=np.array(means)\n",
    "phis=np.array(phis)\n",
    "\n",
    "qse=np.array(qse)\n",
    "meanse=np.array(meanse)\n",
    "phise=np.array(phise)\n",
    "plt.figure()\n",
    "plt.plot(1/rinlist[2:], mathematica[:,-1],label='theory phi R')\n",
    "plt.errorbar(1/rinlist[2:],phis[:,-1][2:],yerr=qse[:,-1][2:],label='simlation phi R')\n",
    "\n",
    "plt.xlabel('r1 and r2')\n",
    "plt.ylabel('phiR')\n",
    "plt.legend()\n",
    "plt.show()\n",
    "\n",
    "\n",
    "\n",
    "plt.figure()\n",
    "plt.plot(1/rinlist[2:], mathematica[:,3],label='theory qR')\n",
    "plt.errorbar(1/rinlist[2:],qs[:,1][2:],yerr=qse[:,1][2:],label='simlation qR')\n",
    "\n",
    "plt.xlabel('r1 and r2')\n",
    "plt.ylabel('qR')\n",
    "plt.legend()\n",
    "plt.show()\n",
    "\n",
    "\n",
    "\n",
    "\n",
    "\n",
    "plt.figure()\n",
    "#plt.plot(1/rinlist[:-2], mathematica[:,0],label='theory x')\n",
    "#plt.errorbar(1/rinlist,means[:,0],yerr=meanse[:,0],label='simlation x')\n",
    "\n",
    "plt.plot(1/rinlist[2:], mathematica[:,2],label='theory R')\n",
    "plt.errorbar(1/rinlist[2:],means[:,2][2:],yerr=meanse[:,2][2:],label='simlation R')\n",
    "\n",
    "#plt.plot(1/rinlist[:-2], mathematica[:,0],label='theory x')\n",
    "#plt.errorbar(1/rinlist,means[:,0],yerr=meanse[:,2],label='simlation x')\n",
    "plt.xlabel('r1 and r2')\n",
    "plt.ylabel('Abundance')\n",
    "plt.legend()\n",
    "plt.show()"
   ]
  },
  {
   "cell_type": "code",
   "execution_count": 275,
   "id": "74863d53",
   "metadata": {},
   "outputs": [
    {
     "data": {
      "image/png": "[encoded data removed]",
      "text/plain": [
       "<Figure size 432x288 with 1 Axes>"
      ]
     },
     "metadata": {
      "needs_background": "light"
     },
     "output_type": "display_data"
    },
    {
     "data": {
      "image/png": "[encoded data removed]",
      "text/plain": [
       "<Figure size 432x288 with 1 Axes>"
      ]
     },
     "metadata": {
      "needs_background": "light"
     },
     "output_type": "display_data"
    }
   ],
   "source": [
    "plt.figure()\n",
    "plt.plot(1/rinlist, mathematica[:,5],label='theory qN')\n",
    "plt.errorbar(1/rinlist,qs[:,1][2:],yerr=qse[:,1][2:],label='simlation qN')\n",
    "\n",
    "plt.xlabel('r1 and r2')\n",
    "plt.ylabel('N')\n",
    "plt.legend()\n",
    "plt.show()\n",
    "\n",
    "plt.figure()\n",
    "plt.plot(1/rinlist, mathematica[:,4],label='theory N')\n",
    "plt.errorbar(1/rinlist,means[:,1][2:],yerr=meanse[:,1][2:],label='simlation N')\n",
    "\n",
    "plt.xlabel('r1 and r2')\n",
    "plt.ylabel('N')\n",
    "plt.legend()\n",
    "plt.show()"
   ]
  },
  {
   "cell_type": "code",
   "execution_count": 226,
   "id": "748a563d",
   "metadata": {},
   "outputs": [],
   "source": [
    "#{x, qx, R, qr, n, qn, w0[deltaue], w0[deltame], w0[deltake]}\n",
    "mathematica=[[1.04269, 4.44386, 0.866828, 1.45442, 0.590032, 1.38853, 0.395402, \n",
    "  0.404265, 0.746715], [1.03054, 4.21397, 0.883391, 1.4914, 0.624014, \n",
    "  1.50722, 0.406153, 0.415341, 0.753958], [1.025, 4.07802, 0.898193, \n",
    "  1.52442, 0.650874, 1.60014, 0.414294, 0.424577, 0.76041], [1.02254, \n",
    "  3.99065, 0.911281, 1.55352, 0.672484, 1.67387, 0.420626, 0.432371, \n",
    "  0.76613], [1.02165, 3.93114, 0.922832, 1.5791, 0.690176, 1.73327, \n",
    "  0.425673, 0.439023, 0.771193], [1.02159, 3.88884, 0.93305, 1.60163, \n",
    "  0.704891, 1.78189, 0.42978, 0.444757, 0.775683], [1.02198, 3.85775, \n",
    "  0.942121, 1.62157, 0.717305, 1.82227, 0.433184, 0.449745, \n",
    "  0.779678], [1.02263, 3.83428, 0.950211, 1.6393, 0.727909, 1.85625, \n",
    "  0.436048, 0.454121, 0.783244], [1.0234, 3.81619, 0.95746, 1.65514, \n",
    "  0.737066, 1.88519, 0.438491, 0.457988, 0.786442], [1.02424, 3.80199,\n",
    "   0.963986, 1.66936, 0.745052, 1.91009, 0.440599, 0.461429, \n",
    "  0.789322], [1.0251, 3.79068, 0.969886, 1.6822, 0.752076, 1.93173, \n",
    "  0.442436, 0.464509, 0.791926], [1.02596, 3.78154, 0.975244, 1.69383,\n",
    "   0.7583, 1.95069, 0.444051, 0.467282, 0.794291], [1.02679, 3.77409, \n",
    "  0.980129, 1.70442, 0.763853, 1.96744, 0.445482, 0.469792, 0.796445]]"
   ]
  },
  {
   "cell_type": "code",
   "execution_count": 228,
   "id": "c630c5b8",
   "metadata": {},
   "outputs": [
    {
     "data": {
      "text/plain": [
       "array([1.04269, 1.03054, 1.025  , 1.02254, 1.02165, 1.02159, 1.02198,\n",
       "       1.02263, 1.0234 , 1.02424, 1.0251 , 1.02596, 1.02679])"
      ]
     },
     "execution_count": 228,
     "metadata": {},
     "output_type": "execute_result"
    }
   ],
   "source": [
    "mathematica=np.array(mathematica)\n",
    "mathematica[:,0]"
   ]
  },
  {
   "cell_type": "code",
   "execution_count": 279,
   "id": "43e250e0",
   "metadata": {},
   "outputs": [],
   "source": [
    "Nmean=[]\n",
    "Xmean=[]\n",
    "Nq=[]\n",
    "Xq=[]\n",
    "Xphi=[]\n",
    "Nphi=[]\n",
    "\n",
    "Nmeane=[]\n",
    "Xmeane=[]\n",
    "Nqe=[]\n",
    "Xqe=[]\n",
    "Xphie=[]\n",
    "Nphie=[]\n",
    "rinlist=np.linspace(3,9,13)\n",
    "        \n",
    "for rin in rinlist:\n",
    "    top_species = 20 #W\n",
    "    middle_species = int(top_species*rin) #B\n",
    "    resources = int(middle_species*rin) #R\n",
    "    N_opt_mean=[]\n",
    "    N_opt_q=[]\n",
    "    X_opt_mean=[]\n",
    "    X_opt_q=[]\n",
    "    phiN=[]\n",
    "    phiX=[]\n",
    "    \n",
    "    for i in range(50):\n",
    "\n",
    "        D = D_mean/middle_species + D_std_dev*np.random.normal(0, 1, (top_species,middle_species))/np.sqrt(middle_species)\n",
    "        C = C_mean/resources+C_std_dev*np.random.normal(0, 1, (middle_species,resources))/np.sqrt(resources)\n",
    "        u = np.random.lognormal(1,1,top_species)\n",
    "        m = np.random.lognormal(1,1,middle_species)\n",
    "        k = np.random.lognormal(1,1,resources)\n",
    "\n",
    "\n",
    "\n",
    "        N_opt = cvx.Variable(middle_species)\n",
    "        constraints=[D @ N_opt <= u, N_opt >= 0]\n",
    "\n",
    "        prob = cvx.Problem(cvx.Minimize(-N_opt@(np.dot(C,k).T - m) + 0.5*cvx.quad_form(N_opt, np.dot(C,C.T)) ), constraints)\n",
    "        prob_output = prob.solve()\n",
    "\n",
    "        Ns=N_opt.value\n",
    "        Xs=constraints[0].dual_value\n",
    "\n",
    "        N_opt_mean.append(np.mean(Ns))\n",
    "        N_opt_q.append(np.mean(Ns**2))\n",
    "        X_opt_mean.append(np.mean(Xs))\n",
    "        X_opt_q.append(np.mean(Xs**2))\n",
    "        \n",
    "        phiN.append(sum(Ns> 1e-11))\n",
    "        phiX.append(sum(Xs> 1e-11))\n",
    "        \n",
    "    Nmean.append(np.mean(N_opt_mean))\n",
    "    Xmean.append(np.mean(X_opt_mean))\n",
    "    Nq.append(np.mean(N_opt_q))\n",
    "    Xq.append(np.mean(X_opt_q))\n",
    "    Nphi.append(np.mean(phiN))\n",
    "    Xphi.append(np.mean(phiX))\n",
    "\n",
    "    Nmeane.append(np.std(N_opt_mean))\n",
    "    Xmeane.append(np.std(X_opt_mean))\n",
    "    Nqe.append(np.std(N_opt_q))\n",
    "    Xqe.append(np.std(X_opt_q))\n",
    "    Nphie.append(np.std(phiN))\n",
    "    Xphie.append(np.std(phiX))\n",
    "        \n",
    "    "
   ]
  },
  {
   "cell_type": "code",
   "execution_count": 280,
   "id": "286ac311",
   "metadata": {},
   "outputs": [
    {
     "data": {
      "image/png": "[encoded data removed]",
      "text/plain": [
       "<Figure size 432x288 with 1 Axes>"
      ]
     },
     "metadata": {
      "needs_background": "light"
     },
     "output_type": "display_data"
    },
    {
     "data": {
      "image/png": "[encoded data removed]",
      "text/plain": [
       "<Figure size 432x288 with 1 Axes>"
      ]
     },
     "metadata": {
      "needs_background": "light"
     },
     "output_type": "display_data"
    },
    {
     "data": {
      "image/png": "[encoded data removed]",
      "text/plain": [
       "<Figure size 432x288 with 1 Axes>"
      ]
     },
     "metadata": {
      "needs_background": "light"
     },
     "output_type": "display_data"
    },
    {
     "data": {
      "image/png": "[encoded data removed]",
      "text/plain": [
       "<Figure size 432x288 with 1 Axes>"
      ]
     },
     "metadata": {
      "needs_background": "light"
     },
     "output_type": "display_data"
    }
   ],
   "source": [
    "plt.plot(1/rinlist, mathematica[:,0],label='theory X')\n",
    "plt.errorbar(1/rinlist,Xmean,yerr=Xmeane,label='simlation X')\n",
    "plt.legend()\n",
    "plt.show()\n",
    "\n",
    "plt.figure()\n",
    "\n",
    "plt.plot(1/rinlist, mathematica[:,1],label='theory qX')\n",
    "plt.errorbar(1/rinlist,Xq,yerr=Xqe,label='simlation qX')\n",
    "plt.legend()\n",
    "plt.show()\n",
    "\n",
    "plt.plot(1/rinlist, mathematica[:,5],label='theory qN')\n",
    "plt.errorbar(1/rinlist,Nq,yerr=Nqe,label='simlation qN')\n",
    "plt.legend()\n",
    "plt.show()\n",
    "\n",
    "plt.plot(1/rinlist, mathematica[:,4],label='theory N')\n",
    "plt.errorbar(1/rinlist,Nmean,yerr=Nmeane,label='simlation N')\n",
    "plt.legend()\n",
    "plt.show()"
   ]
  },
  {
   "cell_type": "code",
   "execution_count": 259,
   "id": "7a9c0221",
   "metadata": {},
   "outputs": [
    {
     "data": {
      "text/plain": [
       "0.5812201818762626"
      ]
     },
     "execution_count": 259,
     "metadata": {},
     "output_type": "execute_result"
    }
   ],
   "source": [
    "np.mean(N_opt_mean)"
   ]
  },
  {
   "cell_type": "code",
   "execution_count": 263,
   "id": "88202f33",
   "metadata": {},
   "outputs": [
    {
     "data": {
      "text/plain": [
       "array([3. , 3.5, 4. , 4.5, 5. , 5.5, 6. , 6.5, 7. , 7.5, 8. , 8.5, 9. ])"
      ]
     },
     "execution_count": 263,
     "metadata": {},
     "output_type": "execute_result"
    }
   ],
   "source": []
  },
  {
   "cell_type": "code",
   "execution_count": null,
   "id": "3e334b3e",
   "metadata": {},
   "outputs": [],
   "source": []
  }
 ],
 "metadata": {
  "kernelspec": {
   "display_name": "Python (py36)",
   "language": "python",
   "name": "py36"
  },
  "language_info": {
   "codemirror_mode": {
    "name": "ipython",
    "version": 3
   },
   "file_extension": ".py",
   "mimetype": "text/x-python",
   "name": "python",
   "nbconvert_exporter": "python",
   "pygments_lexer": "ipython3",
   "version": "3.6.13"
  }
 },
 "nbformat": 4,
 "nbformat_minor": 5
}
