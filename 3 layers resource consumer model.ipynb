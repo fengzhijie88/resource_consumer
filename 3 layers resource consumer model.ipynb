{
 "cells": [
  {
   "cell_type": "code",
   "execution_count": 210,
   "metadata": {},
   "outputs": [
    {
     "name": "stderr",
     "output_type": "stream",
     "text": [
      "/Users/Zhijie/opt/anaconda3/lib/python3.8/site-packages/ipykernel/ipkernel.py:287: DeprecationWarning: `should_run_async` will not call `transform_cell` automatically in the future. Please pass the result to `transformed_cell` argument and any exception that happen during thetransform in `preprocessing_exc_tuple` in IPython 7.17 and above.\n",
      "  and should_run_async(code)\n"
     ]
    },
    {
     "data": {
      "image/png": "[encoded data removed]",
      "text/plain": [
       "<Figure size 432x288 with 1 Axes>"
      ]
     },
     "metadata": {
      "needs_background": "light"
     },
     "output_type": "display_data"
    },
    {
     "data": {
      "image/png": "[encoded data removed]",
      "text/plain": [
       "<Figure size 432x288 with 1 Axes>"
      ]
     },
     "metadata": {
      "needs_background": "light"
     },
     "output_type": "display_data"
    }
   ],
   "source": [
    "\n",
    "from scipy.integrate import solve_ivp\n",
    "from scipy.integrate import odeint\n",
    "import numpy as np\n",
    "import matplotlib.pyplot as plt\n",
    "import seaborn as sns \n",
    "import cvxpy as cvx\n",
    "\n",
    "\n",
    "\n",
    "x_num=10\n",
    "n_num=10\n",
    "r_num=1000\n",
    "meanD=0.01\n",
    "meanC=0.01\n",
    "sdD=0.1\n",
    "sdC=0.1\n",
    "\n",
    "np.random.seed(10)\n",
    "\n",
    "statevec=np.ones((x_num+n_num+r_num))\n",
    "\n",
    "D=meanD+sdD*np.random.normal(0, 1, (x_num,n_num))\n",
    "C=meanC+sdC*np.random.normal(0, 1, (n_num,r_num))\n",
    "\n",
    "mu=np.ones((x_num))\n",
    "m=np.ones((n_num))\n",
    "K=np.ones((r_num))\n",
    "\n",
    "def d_statevec_dt(t,statevec):\n",
    "    \n",
    "    \n",
    "        Xs=statevec[:x_num]\n",
    "        Ns=statevec[x_num:x_num+n_num]\n",
    "        Rs=statevec[x_num+n_num:]\n",
    "        \n",
    "        dXs=Xs*(np.dot(D,Ns)-mu)\n",
    "        dNs=Ns*(np.dot(C,Rs)-m-np.dot(D.T,Xs))\n",
    "        dRs=Rs*(K-Rs-np.dot(C.T,Ns))\n",
    "        return np.concatenate((dXs,dNs,dRs),axis=None)\n",
    "\n",
    "maxtime=20  \n",
    "steps=1000\n",
    "ts = np.linspace(0,maxtime,steps)    \n",
    "sol = solve_ivp(d_statevec_dt, t_span=[0,maxtime],y0=statevec,t_eval=ts,method='LSODA')\n",
    "ys=sol.y.T\n",
    "plt.plot(np.sort(ys.T[x_num:x_num+n_num].T[-1]),'o')\n",
    "\n",
    "#plt.plot(ts,ys.T.T)\n",
    "#plt.xlabel('time')\n",
    "#plt.ylabel('population')\n",
    "\n",
    "Ns = cvx.Variable(n_num)\n",
    "constraints=[D @ Ns >= mu, Ns>=0]\n",
    "Q=np.dot(C,K)\n",
    "\n",
    "prob = cvx.Problem(cvx.Minimize(-Q.T@Ns+(1/2)*cvx.quad_form(Ns, np.dot(C,C.T)) ),\n",
    "                         constraints)\n",
    "prob.solve()\n",
    "plt.figure()\n",
    "plt.plot(np.sort(Ns.value),'o')\n",
    "#constraints[0].dual_value\n",
    "#for value in Ns.value:\n",
    " #      plt.axhline(value)\n",
    "#plt.ylim(0,2)\n",
    "\n",
    "plt.show()\n",
    "#print(ys.T[x_num:x_num+n_num].T)"
   ]
  },
  {
   "cell_type": "code",
   "execution_count": 155,
   "metadata": {},
   "outputs": [
    {
     "name": "stderr",
     "output_type": "stream",
     "text": [
      "/Users/Zhijie/opt/anaconda3/lib/python3.8/site-packages/ipykernel/ipkernel.py:287: DeprecationWarning: `should_run_async` will not call `transform_cell` automatically in the future. Please pass the result to `transformed_cell` argument and any exception that happen during thetransform in `preprocessing_exc_tuple` in IPython 7.17 and above.\n",
      "  and should_run_async(code)\n"
     ]
    },
    {
     "data": {
      "text/plain": [
       "array([ 1.43720859e+01, -2.97960649e-21,  6.80524966e-22,  4.99780891e+00,\n",
       "       -2.06041639e-21,  3.55322125e-01,  1.08651207e+00,  3.11386200e+00,\n",
       "        4.70103089e+00,  3.80566774e+00,  4.70555138e-22,  7.77010631e-01,\n",
       "        4.59513657e+00,  7.26194385e+00, -2.65804290e-21, -8.10749865e-22,\n",
       "        1.23401958e-21, -6.73823154e-22, -1.99292646e-21, -1.53082997e-21])"
      ]
     },
     "execution_count": 155,
     "metadata": {},
     "output_type": "execute_result"
    }
   ],
   "source": [
    "Ns.value"
   ]
  },
  {
   "cell_type": "code",
   "execution_count": 63,
   "metadata": {},
   "outputs": [
    {
     "data": {
      "text/plain": [
       "array([ 3.44698741,  2.5253232 ,  4.83308529, -1.81455285, -0.19262428,\n",
       "       -6.0142749 , -3.80474516, 11.43276319,  5.26768298,  0.75118155,\n",
       "        1.73752065, -2.40415924, -3.75642319,  0.79078181,  1.52728926])"
      ]
     },
     "execution_count": 63,
     "metadata": {},
     "output_type": "execute_result"
    }
   ],
   "source": [
    "np.dot(C,K)"
   ]
  },
  {
   "cell_type": "code",
   "execution_count": 73,
   "metadata": {},
   "outputs": [
    {
     "data": {
      "text/plain": [
       "Expression(AFFINE, UNKNOWN, ())"
      ]
     },
     "execution_count": 73,
     "metadata": {},
     "output_type": "execute_result"
    }
   ],
   "source": [
    "Q.T@Ns"
   ]
  },
  {
   "cell_type": "code",
   "execution_count": 93,
   "metadata": {},
   "outputs": [
    {
     "name": "stderr",
     "output_type": "stream",
     "text": [
      "/Users/Zhijie/opt/anaconda3/lib/python3.8/site-packages/ipykernel/ipkernel.py:287: DeprecationWarning: `should_run_async` will not call `transform_cell` automatically in the future. Please pass the result to `transformed_cell` argument and any exception that happen during thetransform in `preprocessing_exc_tuple` in IPython 7.17 and above.\n",
      "  and should_run_async(code)\n"
     ]
    },
    {
     "data": {
      "text/plain": [
       "100"
      ]
     },
     "execution_count": 93,
     "metadata": {},
     "output_type": "execute_result"
    }
   ],
   "source": [
    "len(ys)"
   ]
  },
  {
   "cell_type": "code",
   "execution_count": 100,
   "metadata": {},
   "outputs": [
    {
     "name": "stdout",
     "output_type": "stream",
     "text": [
      "15\n"
     ]
    }
   ],
   "source": [
    "print(len(ys.T[x_num:x_num+n_num]))"
   ]
  },
  {
   "cell_type": "code",
   "execution_count": null,
   "metadata": {},
   "outputs": [],
   "source": []
  }
 ],
 "metadata": {
  "kernelspec": {
   "display_name": "Python 3",
   "language": "python",
   "name": "python3"
  },
  "language_info": {
   "codemirror_mode": {
    "name": "ipython",
    "version": 3
   },
   "file_extension": ".py",
   "mimetype": "text/x-python",
   "name": "python",
   "nbconvert_exporter": "python",
   "pygments_lexer": "ipython3",
   "version": "3.8.5"
  }
 },
 "nbformat": 4,
 "nbformat_minor": 4
}
